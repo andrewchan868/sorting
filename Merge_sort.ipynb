{
  "nbformat": 4,
  "nbformat_minor": 0,
  "metadata": {
    "colab": {
      "provenance": [],
      "authorship_tag": "ABX9TyNUnZUNH/nA2ci+ypOA5zBK",
      "include_colab_link": true
    },
    "kernelspec": {
      "name": "python3",
      "display_name": "Python 3"
    },
    "language_info": {
      "name": "python"
    }
  },
  "cells": [
    {
      "cell_type": "markdown",
      "metadata": {
        "id": "view-in-github",
        "colab_type": "text"
      },
      "source": [
        "<a href=\"https://colab.research.google.com/github/andrewchan868/sorting/blob/main/Merge_sort.ipynb\" target=\"_parent\"><img src=\"https://colab.research.google.com/assets/colab-badge.svg\" alt=\"Open In Colab\"/></a>"
      ]
    },
    {
      "cell_type": "code",
      "execution_count": 10,
      "metadata": {
        "colab": {
          "base_uri": "https://localhost:8080/"
        },
        "id": "hUg2eKBlbm__",
        "outputId": "dba5d1d0-b7ed-437a-9bbb-3fc10e902c71"
      },
      "outputs": [
        {
          "output_type": "stream",
          "name": "stdout",
          "text": [
            "False\n",
            "[12, 12, 123, 346, 642, 643, 734, 734]\n",
            "True\n"
          ]
        }
      ],
      "source": [
        "def merge_sort(list):\n",
        "  \"\"\"\n",
        "  sorts a list in ascending order\n",
        "  return a new sorted list\n",
        "\n",
        "  1. Divide: find rhe midpoint of the list and divide into sublist\n",
        "  2. Conquer: Recursively sort the sublists created in previous step\n",
        "  3. Combine: Merge the sorted sublists created in previous step\n",
        "\n",
        "  Overall (n * log n), without list sliding, rewrite merge sort by recursive\n",
        "  >> n number of merge\n",
        "  >> log n number of split\n",
        "  >> sliding is O(k) time >> can be O(kn * log n)\n",
        "\n",
        "  Space: linear space   << n\n",
        "  n     4,3,2,1\n",
        "  n/2   4,3 2,1 #del the upper one, just a new list\n",
        "  n/4   4 3 2 1 \n",
        "\n",
        "  1. not every height created at the same time, \n",
        "  when move to next list, just a new list, and del the last one.\n",
        "  2. we run the code separeatly, not running them all at once, \n",
        "  like handle the left hand first until the done and merge to same array\n",
        "\n",
        "  The last step is merging 2 sublist, \n",
        "  that sorted and unsorted list is at most n given time and log n of spce, \n",
        "  but log n is too small, so Linear space complexity.\n",
        "\n",
        "  # no need addititonal space \n",
        "  \"\"\"\n",
        "\n",
        "  if len(list) <= 1:  #base\n",
        "    return list\n",
        "\n",
        "  left_half, right_half = split(list)\n",
        "  left = merge_sort(left_half)\n",
        "  right = merge_sort(right_half)\n",
        "\n",
        "  return merge(left, right)\n",
        "\n",
        "def split(list):\n",
        "  \"\"\"\n",
        "  Divide the unsorted list at midpoint into sublists\n",
        "  Returns two sublists - left and right\n",
        "  constant time per split, take overall O(log n) time\n",
        "  \"\"\"\n",
        "  mid = len(list)//2\n",
        "  left = list[:mid] #list sliding not constant time, O(k) where k is list sliding size\n",
        "  right = list[mid:] \n",
        "\n",
        "  return left, right\n",
        "\n",
        "def merge(left,right): \n",
        "  \"\"\"\n",
        "  Merges two lists (arrays), sorting them in the process\n",
        "  Returns a new merged list\n",
        "  For list of size n, we need n number of merge operations, \n",
        "  so making Overall n * log n\n",
        "  >> n number of merge\n",
        "  >> log n number of split\n",
        "  \"\"\"\n",
        "\n",
        "  l = []\n",
        "  i = 0\n",
        "  j = 0\n",
        "\n",
        "  while i < len(left) and j < len(right):\n",
        "    if left[i] < right[j]:\n",
        "      l.append(left[i])\n",
        "      i += 1\n",
        "    else:                  #left>right\n",
        "      l.append(right[j])\n",
        "      j += 1\n",
        "\n",
        "  while i < len(left): #when right is shorter than left\n",
        "    l.append(left[i])   #assume sorted\n",
        "    i += 1\n",
        "  while j < len(right): #when left is shorter than right\n",
        "    l.append(right[j])\n",
        "    j += 1\n",
        "\n",
        "  return l\n",
        "\n",
        "\n",
        "def verify_sorted(list):\n",
        "  n = len(list)\n",
        "\n",
        "  if n == 0 or n == 1:\n",
        "    return True\n",
        "  return list[0]<=list[1] and verify_sorted(list[1:]) #recursively verify from 2nd elements to the end\n",
        "  \n",
        "alist = [123,12,643,734,12,642,346,734]\n",
        "print(verify_sorted(alist))\n",
        "l = merge_sort(alist)\n",
        "print(l)\n",
        "print(verify_sorted(l))\n",
        "\n",
        "\n",
        "\n"
      ]
    }
  ]
}